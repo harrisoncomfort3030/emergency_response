{
 "cells": [
  {
   "cell_type": "markdown",
   "metadata": {},
   "source": [
    "# ML Pipeline Preparation\n",
    "Follow the instructions below to help you create your ML pipeline.\n",
    "### 1. Import libraries and load data from database.\n",
    "- Import Python libraries\n",
    "- Load dataset from database with [`read_sql_table`](https://pandas.pydata.org/pandas-docs/stable/generated/pandas.read_sql_table.html)\n",
    "- Define feature and target variables X and Y"
   ]
  },
  {
   "cell_type": "code",
   "execution_count": 15,
   "metadata": {},
   "outputs": [
    {
     "name": "stdout",
     "output_type": "stream",
     "text": [
      "[nltk_data] Downloading package punkt to /root/nltk_data...\n",
      "[nltk_data]   Package punkt is already up-to-date!\n",
      "[nltk_data] Downloading package wordnet to /root/nltk_data...\n",
      "[nltk_data]   Package wordnet is already up-to-date!\n",
      "[nltk_data] Downloading package averaged_perceptron_tagger to\n",
      "[nltk_data]     /root/nltk_data...\n",
      "[nltk_data]   Package averaged_perceptron_tagger is already up-to-\n",
      "[nltk_data]       date!\n",
      "[nltk_data] Downloading package stopwords to /root/nltk_data...\n",
      "[nltk_data]   Package stopwords is already up-to-date!\n"
     ]
    }
   ],
   "source": [
    "# import libraries\n",
    "import nltk\n",
    "nltk.download(['punkt', 'wordnet', 'averaged_perceptron_tagger', 'stopwords'])\n",
    "\n",
    "import re\n",
    "import numpy as np\n",
    "import pandas as pd\n",
    "import sqlite3\n",
    "from sqlalchemy import create_engine\n",
    "\n",
    "#others\n",
    "from nltk.tokenize import word_tokenize\n",
    "from nltk.stem import WordNetLemmatizer\n",
    "from nltk.corpus import stopwords\n",
    "\n",
    "from sklearn.metrics import confusion_matrix, classification_report\n",
    "from sklearn.model_selection import GridSearchCV\n",
    "from sklearn.ensemble import RandomForestClassifier\n",
    "from sklearn.multioutput import MultiOutputClassifier\n",
    "from sklearn.model_selection import train_test_split\n",
    "from sklearn.pipeline import Pipeline, FeatureUnion\n",
    "from sklearn.base import BaseEstimator, TransformerMixin\n",
    "from sklearn.feature_extraction.text import CountVectorizer, TfidfTransformer\n",
    "from sklearn.neighbors import KNeighborsClassifier"
   ]
  },
  {
   "cell_type": "code",
   "execution_count": 39,
   "metadata": {},
   "outputs": [
    {
     "data": {
      "text/plain": [
       "0    Weather update - a cold front from Cuba that c...\n",
       "1              Is the Hurricane over or is it not over\n",
       "2                      Looking for someone but no name\n",
       "3    UN reports Leogane 80-90 destroyed. Only Hospi...\n",
       "4    says: west side of Haiti, rest of the country ...\n",
       "Name: message, dtype: object"
      ]
     },
     "execution_count": 39,
     "metadata": {},
     "output_type": "execute_result"
    }
   ],
   "source": [
    "# load data from database\n",
    "#https://www.sqlshack.com/exploring-databases-in-python-using-pandas/\n",
    "engine = create_engine('sqlite:///InsertDatabaseName.db')\n",
    "df = pd.read_sql_table('emergency_reponses_2', engine)\n",
    "#might need to add .values in case it screws up...\n",
    "X = df.message\n",
    "Y = df.drop(columns=['id', 'message', 'original', 'genre'])\n",
    "X.head()"
   ]
  },
  {
   "cell_type": "markdown",
   "metadata": {},
   "source": [
    "### 2. Write a tokenization function to process your text data"
   ]
  },
  {
   "cell_type": "code",
   "execution_count": 17,
   "metadata": {},
   "outputs": [],
   "source": [
    "def tokenize(text):\n",
    "    # normalize case and remove punctuation\n",
    "    text = re.sub(r\"[^a-zA-Z0-9]\", \" \", text.lower())\n",
    "    \n",
    "    stop_words = stopwords.words(\"english\")\n",
    "    lemmatizer = WordNetLemmatizer()\n",
    "    \n",
    "    # tokenize text\n",
    "    tokens = word_tokenize(text)\n",
    "    clean_tokens = []\n",
    "    \n",
    "    for tok in tokens:\n",
    "        if tok not in stop_words:\n",
    "            clean_tok = lemmatizer.lemmatize(tok).strip()\n",
    "            clean_tokens.append(clean_tok)   \n",
    "            \n",
    "    return clean_tokens"
   ]
  },
  {
   "cell_type": "markdown",
   "metadata": {},
   "source": [
    "### 3. Build a machine learning pipeline\n",
    "This machine pipeline should take in the `message` column as input and output classification results on the other 36 categories in the dataset. You may find the [MultiOutputClassifier](http://scikit-learn.org/stable/modules/generated/sklearn.multioutput.MultiOutputClassifier.html) helpful for predicting multiple target variables."
   ]
  },
  {
   "cell_type": "code",
   "execution_count": 40,
   "metadata": {},
   "outputs": [],
   "source": [
    "def build_mlp():\n",
    "    pipeline = Pipeline([\n",
    "        ('vect', CountVectorizer(tokenizer=tokenize)),\n",
    "        ('tfidf', TfidfTransformer()),\n",
    "        ('clf', MultiOutputClassifier(RandomForestClassifier()))\n",
    "    ])\n",
    "    return pipeline "
   ]
  },
  {
   "cell_type": "markdown",
   "metadata": {},
   "source": [
    "### 4. Train pipeline\n",
    "- Split data into train and test sets\n",
    "- Train pipeline"
   ]
  },
  {
   "cell_type": "code",
   "execution_count": 41,
   "metadata": {},
   "outputs": [],
   "source": [
    "X_train, X_test, y_train, y_test = train_test_split(X, Y)\n",
    "\n",
    "# train classifier\n",
    "pipeline = build_mlp()\n",
    "pipeline.fit(X_train, y_train)\n",
    "# predict classifier\n",
    "y_pred = pipeline.predict(X_test)"
   ]
  },
  {
   "cell_type": "code",
   "execution_count": 42,
   "metadata": {},
   "outputs": [
    {
     "data": {
      "text/plain": [
       "array([[1, 0, 0, ..., 0, 0, 0],\n",
       "       [1, 0, 0, ..., 0, 0, 0],\n",
       "       [1, 0, 0, ..., 0, 0, 0],\n",
       "       ..., \n",
       "       [0, 0, 0, ..., 0, 0, 0],\n",
       "       [1, 0, 0, ..., 0, 0, 0],\n",
       "       [1, 1, 0, ..., 0, 0, 1]])"
      ]
     },
     "execution_count": 42,
     "metadata": {},
     "output_type": "execute_result"
    }
   ],
   "source": [
    "y_pred"
   ]
  },
  {
   "cell_type": "code",
   "execution_count": 45,
   "metadata": {},
   "outputs": [
    {
     "name": "stdout",
     "output_type": "stream",
     "text": [
      "(6554, 36)\n",
      "(6554, 36)\n",
      "36\n"
     ]
    }
   ],
   "source": [
    "print(y_test.shape)\n",
    "print(y_pred.shape)\n",
    "print(len(Y.columns.values))"
   ]
  },
  {
   "cell_type": "markdown",
   "metadata": {},
   "source": [
    "### 5. Test your model\n",
    "Report the f1 score, precision and recall for each output category of the dataset. You can do this by iterating through the columns and calling sklearn's `classification_report` on each."
   ]
  },
  {
   "cell_type": "code",
   "execution_count": 44,
   "metadata": {},
   "outputs": [
    {
     "ename": "ValueError",
     "evalue": "Unknown label type: (       related  request  offer  aid_related  medical_help  medical_products  \\\n15869        1        0      0            1             1                 0   \n16390        1        0      0            0             0                 0   \n15832        1        0      0            0             0                 0   \n21615        1        0      0            1             0                 0   \n6900         1        0      0            0             0                 0   \n9949         1        0      0            0             0                 0   \n4377         1        1      0            1             0                 0   \n11498        0        0      0            0             0                 0   \n523          1        1      0            1             1                 0   \n11379        1        1      0            1             0                 0   \n4126         1        1      0            1             0                 0   \n19607        1        0      0            0             0                 0   \n6956         0        0      0            0             0                 0   \n11666        0        0      0            0             0                 0   \n22763        1        0      0            0             0                 0   \n2861         1        1      0            1             0                 0   \n21313        1        0      0            1             0                 0   \n9474         0        0      0            0             0                 0   \n2775         1        1      0            1             0                 0   \n2094         1        1      0            1             0                 0   \n12536        1        0      0            0             0                 0   \n9060         0        0      0            0             0                 0   \n9874         0        0      0            0             0                 0   \n23272        1        0      0            1             0                 0   \n18887        1        0      1            1             0                 0   \n3335         0        0      0            0             0                 0   \n15816        0        0      0            0             0                 0   \n771          1        0      0            1             1                 0   \n11589        1        0      0            0             0                 0   \n12454        1        0      0            0             0                 0   \n...        ...      ...    ...          ...           ...               ...   \n21700        0        0      0            0             0                 0   \n18065        1        0      0            1             0                 1   \n2296         0        0      0            0             0                 0   \n13987        1        0      0            0             0                 0   \n7362         1        0      0            1             0                 0   \n10285        1        0      0            0             0                 0   \n13947        1        0      0            1             0                 0   \n1720         0        0      0            0             0                 0   \n4263         0        0      0            0             0                 0   \n17924        1        0      0            0             0                 0   \n13065        1        0      0            1             0                 0   \n20572        1        1      0            1             0                 0   \n9660         1        0      0            0             0                 0   \n14378        1        0      0            0             0                 0   \n2356         1        1      0            1             0                 0   \n10028        1        0      0            0             0                 0   \n23354        1        0      0            0             0                 0   \n2841         1        1      0            1             0                 0   \n16092        1        0      0            0             0                 0   \n7593         1        0      0            1             0                 0   \n10843        1        0      0            1             0                 0   \n10219        1        0      0            1             0                 0   \n162          1        1      0            1             0                 0   \n25212        1        0      0            1             1                 0   \n8028         1        0      0            0             0                 0   \n8186         1        0      0            0             0                 0   \n7108         1        0      0            1             0                 0   \n22443        0        0      0            0             0                 0   \n5988         0        0      0            0             0                 0   \n3577         1        1      0            1             0                 0   \n\n       search_and_rescue  security  military  child_alone      ...        \\\n15869                  0         0         0            0      ...         \n16390                  0         0         0            0      ...         \n15832                  0         0         0            0      ...         \n21615                  0         0         0            0      ...         \n6900                   0         0         0            0      ...         \n9949                   0         0         0            0      ...         \n4377                   0         0         0            0      ...         \n11498                  0         0         0            0      ...         \n523                    1         0         0            0      ...         \n11379                  0         0         0            0      ...         \n4126                   0         0         0            0      ...         \n19607                  0         0         0            0      ...         \n6956                   0         0         0            0      ...         \n11666                  0         0         0            0      ...         \n22763                  0         0         0            0      ...         \n2861                   0         0         0            0      ...         \n21313                  0         0         0            0      ...         \n9474                   0         0         0            0      ...         \n2775                   0         0         0            0      ...         \n2094                   0         0         0            0      ...         \n12536                  0         0         0            0      ...         \n9060                   0         0         0            0      ...         \n9874                   0         0         0            0      ...         \n23272                  0         0         0            0      ...         \n18887                  0         0         0            0      ...         \n3335                   0         0         0            0      ...         \n15816                  0         0         0            0      ...         \n771                    0         0         0            0      ...         \n11589                  0         0         0            0      ...         \n12454                  0         0         0            0      ...         \n...                  ...       ...       ...          ...      ...         \n21700                  0         0         0            0      ...         \n18065                  0         0         0            0      ...         \n2296                   0         0         0            0      ...         \n13987                  0         0         0            0      ...         \n7362                   0         0         0            0      ...         \n10285                  0         0         0            0      ...         \n13947                  0         0         0            0      ...         \n1720                   0         0         0            0      ...         \n4263                   0         0         0            0      ...         \n17924                  0         0         0            0      ...         \n13065                  0         0         0            0      ...         \n20572                  0         0         0            0      ...         \n9660                   0         0         0            0      ...         \n14378                  0         0         0            0      ...         \n2356                   0         0         0            0      ...         \n10028                  0         0         0            0      ...         \n23354                  0         0         0            0      ...         \n2841                   0         0         0            0      ...         \n16092                  0         0         0            0      ...         \n7593                   0         0         0            0      ...         \n10843                  0         0         0            0      ...         \n10219                  0         0         0            0      ...         \n162                    0         0         0            0      ...         \n25212                  0         0         0            0      ...         \n8028                   0         0         0            0      ...         \n8186                   0         0         0            0      ...         \n7108                   0         0         0            0      ...         \n22443                  0         0         0            0      ...         \n5988                   0         0         0            0      ...         \n3577                   0         0         0            0      ...         \n\n       aid_centers  other_infrastructure  weather_related  floods  storm  \\\n15869            0                     0                0       0      0   \n16390            0                     0                0       0      0   \n15832            0                     0                0       0      0   \n21615            0                     0                0       0      0   \n6900             0                     0                1       0      1   \n9949             0                     0                0       0      0   \n4377             0                     0                0       0      0   \n11498            0                     0                0       0      0   \n523              0                     0                1       1      0   \n11379            0                     0                0       0      0   \n4126             0                     0                0       0      0   \n19607            0                     0                0       0      0   \n6956             0                     0                0       0      0   \n11666            0                     0                0       0      0   \n22763            0                     0                1       0      0   \n2861             0                     0                0       0      0   \n21313            0                     0                0       0      0   \n9474             0                     0                0       0      0   \n2775             0                     0                0       0      0   \n2094             0                     0                0       0      0   \n12536            0                     0                1       0      1   \n9060             0                     0                0       0      0   \n9874             0                     0                0       0      0   \n23272            0                     0                1       0      0   \n18887            0                     0                0       0      0   \n3335             0                     0                0       0      0   \n15816            0                     0                0       0      0   \n771              0                     0                0       0      0   \n11589            0                     0                1       0      0   \n12454            0                     0                0       0      0   \n...            ...                   ...              ...     ...    ...   \n21700            0                     0                0       0      0   \n18065            0                     0                0       0      0   \n2296             0                     0                0       0      0   \n13987            0                     0                1       0      0   \n7362             0                     0                0       0      0   \n10285            0                     0                1       0      0   \n13947            0                     0                0       0      0   \n1720             0                     0                0       0      0   \n4263             0                     0                0       0      0   \n17924            0                     0                0       0      0   \n13065            0                     0                0       0      0   \n20572            0                     0                0       0      0   \n9660             0                     0                1       0      1   \n14378            0                     0                1       1      1   \n2356             0                     0                1       0      0   \n10028            0                     0                1       0      0   \n23354            0                     0                0       0      0   \n2841             1                     0                0       0      0   \n16092            0                     1                0       0      0   \n7593             0                     0                0       0      0   \n10843            0                     0                0       0      0   \n10219            0                     0                1       0      0   \n162              0                     0                0       0      0   \n25212            0                     0                1       0      0   \n8028             0                     0                0       0      0   \n8186             0                     0                0       0      0   \n7108             0                     0                0       0      0   \n22443            0                     0                0       0      0   \n5988             0                     0                0       0      0   \n3577             0                     0                0       0      0   \n\n       fire  earthquake  cold  other_weather  direct_report  \n15869     0           0     0              0              0  \n16390     0           0     0              0              0  \n15832     0           0     0              0              0  \n21615     0           0     0              0              0  \n6900      0           0     0              0              1  \n9949      0           0     0              0              0  \n4377      0           0     0              0              1  \n11498     0           0     0              0              0  \n523       0           0     0              0              1  \n11379     0           0     0              0              1  \n4126      0           0     0              0              1  \n19607     0           0     0              0              0  \n6956      0           0     0              0              0  \n11666     0           0     0              0              0  \n22763     0           0     0              1              0  \n2861      0           0     0              0              1  \n21313     0           0     0              0              0  \n9474      0           0     0              0              0  \n2775      0           0     0              0              1  \n2094      0           0     0              0              1  \n12536     0           0     0              0              0  \n9060      0           0     0              0              0  \n9874      0           0     0              0              0  \n23272     0           0     0              1              0  \n18887     0           0     0              0              0  \n3335      0           0     0              0              0  \n15816     0           0     0              0              0  \n771       0           0     0              0              0  \n11589     0           1     0              0              0  \n12454     0           0     0              0              0  \n...     ...         ...   ...            ...            ...  \n21700     0           0     0              0              0  \n18065     0           0     0              0              0  \n2296      0           0     0              0              0  \n13987     0           0     0              1              0  \n7362      0           0     0              0              0  \n10285     0           1     0              0              0  \n13947     0           0     0              0              0  \n1720      0           0     0              0              0  \n4263      0           0     0              0              0  \n17924     0           0     0              0              0  \n13065     0           0     0              0              1  \n20572     0           0     0              0              1  \n9660      0           0     0              0              0  \n14378     0           0     0              0              0  \n2356      0           1     0              0              0  \n10028     0           1     0              0              0  \n23354     0           0     0              0              0  \n2841      0           0     0              0              1  \n16092     0           0     0              0              0  \n7593      0           0     0              0              1  \n10843     0           0     0              0              0  \n10219     0           1     0              0              0  \n162       0           0     0              0              0  \n25212     0           1     0              0              0  \n8028      0           0     0              0              0  \n8186      0           0     0              0              0  \n7108      0           0     0              0              0  \n22443     0           0     0              0              0  \n5988      0           0     0              0              0  \n3577      0           0     0              0              1  \n\n[6554 rows x 36 columns], array([[1, 0, 0, ..., 0, 0, 0],\n       [1, 0, 0, ..., 0, 0, 0],\n       [1, 0, 0, ..., 0, 0, 0],\n       ..., \n       [0, 0, 0, ..., 0, 0, 0],\n       [1, 0, 0, ..., 0, 0, 0],\n       [1, 1, 0, ..., 0, 0, 1]]))",
     "output_type": "error",
     "traceback": [
      "\u001b[0;31m---------------------------------------------------------------------------\u001b[0m",
      "\u001b[0;31mValueError\u001b[0m                                Traceback (most recent call last)",
      "\u001b[0;32m<ipython-input-44-0740e549c9cf>\u001b[0m in \u001b[0;36m<module>\u001b[0;34m()\u001b[0m\n\u001b[1;32m      1\u001b[0m \u001b[0;31m#pipeline.score(X_test, y_test)\u001b[0m\u001b[0;34m\u001b[0m\u001b[0;34m\u001b[0m\u001b[0m\n\u001b[0;32m----> 2\u001b[0;31m \u001b[0mclassification_report\u001b[0m\u001b[0;34m(\u001b[0m\u001b[0my_test\u001b[0m\u001b[0;34m,\u001b[0m \u001b[0my_pred\u001b[0m\u001b[0;34m,\u001b[0m \u001b[0mtarget_names\u001b[0m\u001b[0;34m=\u001b[0m\u001b[0mY\u001b[0m\u001b[0;34m.\u001b[0m\u001b[0mcolumns\u001b[0m\u001b[0;34m.\u001b[0m\u001b[0mvalues\u001b[0m\u001b[0;34m)\u001b[0m\u001b[0;34m\u001b[0m\u001b[0m\n\u001b[0m",
      "\u001b[0;32m/opt/conda/lib/python3.6/site-packages/sklearn/metrics/classification.py\u001b[0m in \u001b[0;36mclassification_report\u001b[0;34m(y_true, y_pred, labels, target_names, sample_weight, digits)\u001b[0m\n\u001b[1;32m   1419\u001b[0m \u001b[0;34m\u001b[0m\u001b[0m\n\u001b[1;32m   1420\u001b[0m     \u001b[0;32mif\u001b[0m \u001b[0mlabels\u001b[0m \u001b[0;32mis\u001b[0m \u001b[0;32mNone\u001b[0m\u001b[0;34m:\u001b[0m\u001b[0;34m\u001b[0m\u001b[0m\n\u001b[0;32m-> 1421\u001b[0;31m         \u001b[0mlabels\u001b[0m \u001b[0;34m=\u001b[0m \u001b[0munique_labels\u001b[0m\u001b[0;34m(\u001b[0m\u001b[0my_true\u001b[0m\u001b[0;34m,\u001b[0m \u001b[0my_pred\u001b[0m\u001b[0;34m)\u001b[0m\u001b[0;34m\u001b[0m\u001b[0m\n\u001b[0m\u001b[1;32m   1422\u001b[0m     \u001b[0;32melse\u001b[0m\u001b[0;34m:\u001b[0m\u001b[0;34m\u001b[0m\u001b[0m\n\u001b[1;32m   1423\u001b[0m         \u001b[0mlabels\u001b[0m \u001b[0;34m=\u001b[0m \u001b[0mnp\u001b[0m\u001b[0;34m.\u001b[0m\u001b[0masarray\u001b[0m\u001b[0;34m(\u001b[0m\u001b[0mlabels\u001b[0m\u001b[0;34m)\u001b[0m\u001b[0;34m\u001b[0m\u001b[0m\n",
      "\u001b[0;32m/opt/conda/lib/python3.6/site-packages/sklearn/utils/multiclass.py\u001b[0m in \u001b[0;36munique_labels\u001b[0;34m(*ys)\u001b[0m\n\u001b[1;32m     95\u001b[0m     \u001b[0m_unique_labels\u001b[0m \u001b[0;34m=\u001b[0m \u001b[0m_FN_UNIQUE_LABELS\u001b[0m\u001b[0;34m.\u001b[0m\u001b[0mget\u001b[0m\u001b[0;34m(\u001b[0m\u001b[0mlabel_type\u001b[0m\u001b[0;34m,\u001b[0m \u001b[0;32mNone\u001b[0m\u001b[0;34m)\u001b[0m\u001b[0;34m\u001b[0m\u001b[0m\n\u001b[1;32m     96\u001b[0m     \u001b[0;32mif\u001b[0m \u001b[0;32mnot\u001b[0m \u001b[0m_unique_labels\u001b[0m\u001b[0;34m:\u001b[0m\u001b[0;34m\u001b[0m\u001b[0m\n\u001b[0;32m---> 97\u001b[0;31m         \u001b[0;32mraise\u001b[0m \u001b[0mValueError\u001b[0m\u001b[0;34m(\u001b[0m\u001b[0;34m\"Unknown label type: %s\"\u001b[0m \u001b[0;34m%\u001b[0m \u001b[0mrepr\u001b[0m\u001b[0;34m(\u001b[0m\u001b[0mys\u001b[0m\u001b[0;34m)\u001b[0m\u001b[0;34m)\u001b[0m\u001b[0;34m\u001b[0m\u001b[0m\n\u001b[0m\u001b[1;32m     98\u001b[0m \u001b[0;34m\u001b[0m\u001b[0m\n\u001b[1;32m     99\u001b[0m     \u001b[0mys_labels\u001b[0m \u001b[0;34m=\u001b[0m \u001b[0mset\u001b[0m\u001b[0;34m(\u001b[0m\u001b[0mchain\u001b[0m\u001b[0;34m.\u001b[0m\u001b[0mfrom_iterable\u001b[0m\u001b[0;34m(\u001b[0m\u001b[0m_unique_labels\u001b[0m\u001b[0;34m(\u001b[0m\u001b[0my\u001b[0m\u001b[0;34m)\u001b[0m \u001b[0;32mfor\u001b[0m \u001b[0my\u001b[0m \u001b[0;32min\u001b[0m \u001b[0mys\u001b[0m\u001b[0;34m)\u001b[0m\u001b[0;34m)\u001b[0m\u001b[0;34m\u001b[0m\u001b[0m\n",
      "\u001b[0;31mValueError\u001b[0m: Unknown label type: (       related  request  offer  aid_related  medical_help  medical_products  \\\n15869        1        0      0            1             1                 0   \n16390        1        0      0            0             0                 0   \n15832        1        0      0            0             0                 0   \n21615        1        0      0            1             0                 0   \n6900         1        0      0            0             0                 0   \n9949         1        0      0            0             0                 0   \n4377         1        1      0            1             0                 0   \n11498        0        0      0            0             0                 0   \n523          1        1      0            1             1                 0   \n11379        1        1      0            1             0                 0   \n4126         1        1      0            1             0                 0   \n19607        1        0      0            0             0                 0   \n6956         0        0      0            0             0                 0   \n11666        0        0      0            0             0                 0   \n22763        1        0      0            0             0                 0   \n2861         1        1      0            1             0                 0   \n21313        1        0      0            1             0                 0   \n9474         0        0      0            0             0                 0   \n2775         1        1      0            1             0                 0   \n2094         1        1      0            1             0                 0   \n12536        1        0      0            0             0                 0   \n9060         0        0      0            0             0                 0   \n9874         0        0      0            0             0                 0   \n23272        1        0      0            1             0                 0   \n18887        1        0      1            1             0                 0   \n3335         0        0      0            0             0                 0   \n15816        0        0      0            0             0                 0   \n771          1        0      0            1             1                 0   \n11589        1        0      0            0             0                 0   \n12454        1        0      0            0             0                 0   \n...        ...      ...    ...          ...           ...               ...   \n21700        0        0      0            0             0                 0   \n18065        1        0      0            1             0                 1   \n2296         0        0      0            0             0                 0   \n13987        1        0      0            0             0                 0   \n7362         1        0      0            1             0                 0   \n10285        1        0      0            0             0                 0   \n13947        1        0      0            1             0                 0   \n1720         0        0      0            0             0                 0   \n4263         0        0      0            0             0                 0   \n17924        1        0      0            0             0                 0   \n13065        1        0      0            1             0                 0   \n20572        1        1      0            1             0                 0   \n9660         1        0      0            0             0                 0   \n14378        1        0      0            0             0                 0   \n2356         1        1      0            1             0                 0   \n10028        1        0      0            0             0                 0   \n23354        1        0      0            0             0                 0   \n2841         1        1      0            1             0                 0   \n16092        1        0      0            0             0                 0   \n7593         1        0      0            1             0                 0   \n10843        1        0      0            1             0                 0   \n10219        1        0      0            1             0                 0   \n162          1        1      0            1             0                 0   \n25212        1        0      0            1             1                 0   \n8028         1        0      0            0             0                 0   \n8186         1        0      0            0             0                 0   \n7108         1        0      0            1             0                 0   \n22443        0        0      0            0             0                 0   \n5988         0        0      0            0             0                 0   \n3577         1        1      0            1             0                 0   \n\n       search_and_rescue  security  military  child_alone      ...        \\\n15869                  0         0         0            0      ...         \n16390                  0         0         0            0      ...         \n15832                  0         0         0            0      ...         \n21615                  0         0         0            0      ...         \n6900                   0         0         0            0      ...         \n9949                   0         0         0            0      ...         \n4377                   0         0         0            0      ...         \n11498                  0         0         0            0      ...         \n523                    1         0         0            0      ...         \n11379                  0         0         0            0      ...         \n4126                   0         0         0            0      ...         \n19607                  0         0         0            0      ...         \n6956                   0         0         0            0      ...         \n11666                  0         0         0            0      ...         \n22763                  0         0         0            0      ...         \n2861                   0         0         0            0      ...         \n21313                  0         0         0            0      ...         \n9474                   0         0         0            0      ...         \n2775                   0         0         0            0      ...         \n2094                   0         0         0            0      ...         \n12536                  0         0         0            0      ...         \n9060                   0         0         0            0      ...         \n9874                   0         0         0            0      ...         \n23272                  0         0         0            0      ...         \n18887                  0         0         0            0      ...         \n3335                   0         0         0            0      ...         \n15816                  0         0         0            0      ...         \n771                    0         0         0            0      ...         \n11589                  0         0         0            0      ...         \n12454                  0         0         0            0      ...         \n...                  ...       ...       ...          ...      ...         \n21700                  0         0         0            0      ...         \n18065                  0         0         0            0      ...         \n2296                   0         0         0            0      ...         \n13987                  0         0         0            0      ...         \n7362                   0         0         0            0      ...         \n10285                  0         0         0            0      ...         \n13947                  0         0         0            0      ...         \n1720                   0         0         0            0      ...         \n4263                   0         0         0            0      ...         \n17924                  0         0         0            0      ...         \n13065                  0         0         0            0      ...         \n20572                  0         0         0            0      ...         \n9660                   0         0         0            0      ...         \n14378                  0         0         0            0      ...         \n2356                   0         0         0            0      ...         \n10028                  0         0         0            0      ...         \n23354                  0         0         0            0      ...         \n2841                   0         0         0            0      ...         \n16092                  0         0         0            0      ...         \n7593                   0         0         0            0      ...         \n10843                  0         0         0            0      ...         \n10219                  0         0         0            0      ...         \n162                    0         0         0            0      ...         \n25212                  0         0         0            0      ...         \n8028                   0         0         0            0      ...         \n8186                   0         0         0            0      ...         \n7108                   0         0         0            0      ...         \n22443                  0         0         0            0      ...         \n5988                   0         0         0            0      ...         \n3577                   0         0         0            0      ...         \n\n       aid_centers  other_infrastructure  weather_related  floods  storm  \\\n15869            0                     0                0       0      0   \n16390            0                     0                0       0      0   \n15832            0                     0                0       0      0   \n21615            0                     0                0       0      0   \n6900             0                     0                1       0      1   \n9949             0                     0                0       0      0   \n4377             0                     0                0       0      0   \n11498            0                     0                0       0      0   \n523              0                     0                1       1      0   \n11379            0                     0                0       0      0   \n4126             0                     0                0       0      0   \n19607            0                     0                0       0      0   \n6956             0                     0                0       0      0   \n11666            0                     0                0       0      0   \n22763            0                     0                1       0      0   \n2861             0                     0                0       0      0   \n21313            0                     0                0       0      0   \n9474             0                     0                0       0      0   \n2775             0                     0                0       0      0   \n2094             0                     0                0       0      0   \n12536            0                     0                1       0      1   \n9060             0                     0                0       0      0   \n9874             0                     0                0       0      0   \n23272            0                     0                1       0      0   \n18887            0                     0                0       0      0   \n3335             0                     0                0       0      0   \n15816            0                     0                0       0      0   \n771              0                     0                0       0      0   \n11589            0                     0                1       0      0   \n12454            0                     0                0       0      0   \n...            ...                   ...              ...     ...    ...   \n21700            0                     0                0       0      0   \n18065            0                     0                0       0      0   \n2296             0                     0                0       0      0   \n13987            0                     0                1       0      0   \n7362             0                     0                0       0      0   \n10285            0                     0                1       0      0   \n13947            0                     0                0       0      0   \n1720             0                     0                0       0      0   \n4263             0                     0                0       0      0   \n17924            0                     0                0       0      0   \n13065            0                     0                0       0      0   \n20572            0                     0                0       0      0   \n9660             0                     0                1       0      1   \n14378            0                     0                1       1      1   \n2356             0                     0                1       0      0   \n10028            0                     0                1       0      0   \n23354            0                     0                0       0      0   \n2841             1                     0                0       0      0   \n16092            0                     1                0       0      0   \n7593             0                     0                0       0      0   \n10843            0                     0                0       0      0   \n10219            0                     0                1       0      0   \n162              0                     0                0       0      0   \n25212            0                     0                1       0      0   \n8028             0                     0                0       0      0   \n8186             0                     0                0       0      0   \n7108             0                     0                0       0      0   \n22443            0                     0                0       0      0   \n5988             0                     0                0       0      0   \n3577             0                     0                0       0      0   \n\n       fire  earthquake  cold  other_weather  direct_report  \n15869     0           0     0              0              0  \n16390     0           0     0              0              0  \n15832     0           0     0              0              0  \n21615     0           0     0              0              0  \n6900      0           0     0              0              1  \n9949      0           0     0              0              0  \n4377      0           0     0              0              1  \n11498     0           0     0              0              0  \n523       0           0     0              0              1  \n11379     0           0     0              0              1  \n4126      0           0     0              0              1  \n19607     0           0     0              0              0  \n6956      0           0     0              0              0  \n11666     0           0     0              0              0  \n22763     0           0     0              1              0  \n2861      0           0     0              0              1  \n21313     0           0     0              0              0  \n9474      0           0     0              0              0  \n2775      0           0     0              0              1  \n2094      0           0     0              0              1  \n12536     0           0     0              0              0  \n9060      0           0     0              0              0  \n9874      0           0     0              0              0  \n23272     0           0     0              1              0  \n18887     0           0     0              0              0  \n3335      0           0     0              0              0  \n15816     0           0     0              0              0  \n771       0           0     0              0              0  \n11589     0           1     0              0              0  \n12454     0           0     0              0              0  \n...     ...         ...   ...            ...            ...  \n21700     0           0     0              0              0  \n18065     0           0     0              0              0  \n2296      0           0     0              0              0  \n13987     0           0     0              1              0  \n7362      0           0     0              0              0  \n10285     0           1     0              0              0  \n13947     0           0     0              0              0  \n1720      0           0     0              0              0  \n4263      0           0     0              0              0  \n17924     0           0     0              0              0  \n13065     0           0     0              0              1  \n20572     0           0     0              0              1  \n9660      0           0     0              0              0  \n14378     0           0     0              0              0  \n2356      0           1     0              0              0  \n10028     0           1     0              0              0  \n23354     0           0     0              0              0  \n2841      0           0     0              0              1  \n16092     0           0     0              0              0  \n7593      0           0     0              0              1  \n10843     0           0     0              0              0  \n10219     0           1     0              0              0  \n162       0           0     0              0              0  \n25212     0           1     0              0              0  \n8028      0           0     0              0              0  \n8186      0           0     0              0              0  \n7108      0           0     0              0              0  \n22443     0           0     0              0              0  \n5988      0           0     0              0              0  \n3577      0           0     0              0              1  \n\n[6554 rows x 36 columns], array([[1, 0, 0, ..., 0, 0, 0],\n       [1, 0, 0, ..., 0, 0, 0],\n       [1, 0, 0, ..., 0, 0, 0],\n       ..., \n       [0, 0, 0, ..., 0, 0, 0],\n       [1, 0, 0, ..., 0, 0, 0],\n       [1, 1, 0, ..., 0, 0, 1]]))"
     ]
    }
   ],
   "source": [
    "#pipeline.score(X_test, y_test)\n",
    "classification_report(y_test, y_pred, target_names=Y.columns.values)\n"
   ]
  },
  {
   "cell_type": "markdown",
   "metadata": {},
   "source": [
    "### 6. Improve your model\n",
    "Use grid search to find better parameters. "
   ]
  },
  {
   "cell_type": "code",
   "execution_count": null,
   "metadata": {},
   "outputs": [],
   "source": [
    "parameters = \n",
    "\n",
    "cv = "
   ]
  },
  {
   "cell_type": "markdown",
   "metadata": {},
   "source": [
    "### 7. Test your model\n",
    "Show the accuracy, precision, and recall of the tuned model.  \n",
    "\n",
    "Since this project focuses on code quality, process, and  pipelines, there is no minimum performance metric needed to pass. However, make sure to fine tune your models for accuracy, precision and recall to make your project stand out - especially for your portfolio!"
   ]
  },
  {
   "cell_type": "code",
   "execution_count": null,
   "metadata": {},
   "outputs": [],
   "source": []
  },
  {
   "cell_type": "markdown",
   "metadata": {},
   "source": [
    "### 8. Try improving your model further. Here are a few ideas:\n",
    "* try other machine learning algorithms\n",
    "* add other features besides the TF-IDF"
   ]
  },
  {
   "cell_type": "code",
   "execution_count": null,
   "metadata": {},
   "outputs": [],
   "source": []
  },
  {
   "cell_type": "markdown",
   "metadata": {},
   "source": [
    "### 9. Export your model as a pickle file"
   ]
  },
  {
   "cell_type": "code",
   "execution_count": null,
   "metadata": {},
   "outputs": [],
   "source": []
  },
  {
   "cell_type": "markdown",
   "metadata": {},
   "source": [
    "### 10. Use this notebook to complete `train.py`\n",
    "Use the template file attached in the Resources folder to write a script that runs the steps above to create a database and export a model based on a new dataset specified by the user."
   ]
  },
  {
   "cell_type": "code",
   "execution_count": null,
   "metadata": {},
   "outputs": [],
   "source": []
  }
 ],
 "metadata": {
  "kernelspec": {
   "display_name": "Python 3",
   "language": "python",
   "name": "python3"
  }
 },
 "nbformat": 4,
 "nbformat_minor": 2
}
